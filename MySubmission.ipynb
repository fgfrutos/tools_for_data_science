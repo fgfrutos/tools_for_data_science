{
  "metadata": {
    "kernelspec": {
      "name": "python",
      "display_name": "Pyolite",
      "language": "python"
    },
    "language_info": {
      "codemirror_mode": {
        "name": "python",
        "version": 3
      },
      "file_extension": ".py",
      "mimetype": "text/x-python",
      "name": "python",
      "nbconvert_exporter": "python",
      "pygments_lexer": "ipython3",
      "version": "3.8"
    }
  },
  "nbformat_minor": 4,
  "nbformat": 4,
  "cells": [
    {
      "cell_type": "markdown",
      "source": "<center>\n    <img src=\"https://s3-api.us-geo.objectstorage.softlayer.net/cf-courses-data/CognitiveClass/Logos/organization_logo/organization_logo.png\" width=\"300\" alt=\"cognitiveclass.ai logo\"  />\n</center>\n",
      "metadata": {
        "jupyter": {
          "source_hidden": true
        },
        "tags": []
      }
    },
    {
      "cell_type": "markdown",
      "source": "# My Jupyter Notebook on IBM Watson Studio\n",
      "metadata": {}
    },
    {
      "cell_type": "markdown",
      "source": "**Francisco Garre Frutos**",
      "metadata": {}
    },
    {
      "cell_type": "markdown",
      "source": "My currently desired job is: data analyst",
      "metadata": {}
    },
    {
      "cell_type": "markdown",
      "source": "*I am interested in data science because i love to tell stories with data.*",
      "metadata": {}
    },
    {
      "cell_type": "markdown",
      "source": "### The following code is a recursive factorial function:",
      "metadata": {}
    },
    {
      "cell_type": "code",
      "source": "def factorial(n):\n    if n == 1:\n        return n\n    \n    return n * factorial(n-1)\n\nfactorial(5)",
      "metadata": {
        "trusted": true
      },
      "execution_count": 6,
      "outputs": [
        {
          "execution_count": 6,
          "output_type": "execute_result",
          "data": {
            "text/plain": "120"
          },
          "metadata": {}
        }
      ]
    },
    {
      "cell_type": "markdown",
      "source": "[This](https://www.metacritic.com/) is an hyperlink to metacritic.",
      "metadata": {}
    },
    {
      "cell_type": "markdown",
      "source": "This is a list with the three best rated films of all times in metacritic:\n\n1. The Godfather.\n2. Citizen Kane.\n3. Reard Widow.",
      "metadata": {}
    },
    {
      "cell_type": "markdown",
      "source": "This is a quote from Vito Corleone (main character of the Godfather):\n\n> I'll make him an offer he can't refuse.",
      "metadata": {}
    }
  ]
}